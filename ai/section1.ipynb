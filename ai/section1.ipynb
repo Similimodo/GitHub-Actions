{
 "cells": [
  {
   "cell_type": "code",
   "execution_count": 1,
   "id": "a74e09bd-4b6d-4dfc-89af-be6f8a045b58",
   "metadata": {},
   "outputs": [],
   "source": [
    "#my first ever jupyter notebook"
   ]
  },
  {
   "cell_type": "code",
   "execution_count": 9,
   "id": "b4230f49-fb40-48d3-9ad4-2e169d381054",
   "metadata": {},
   "outputs": [],
   "source": [
    "x = 5.2"
   ]
  },
  {
   "cell_type": "code",
   "execution_count": 10,
   "id": "6a6790b4-b2ff-4dff-be8b-aba37bdb6ecd",
   "metadata": {},
   "outputs": [
    {
     "data": {
      "text/plain": [
       "float"
      ]
     },
     "execution_count": 10,
     "metadata": {},
     "output_type": "execute_result"
    }
   ],
   "source": [
    "type(x)"
   ]
  },
  {
   "cell_type": "code",
   "execution_count": 19,
   "id": "c78ee708-142e-4b4a-ab13-0d12c5571839",
   "metadata": {},
   "outputs": [
    {
     "name": "stdout",
     "output_type": "stream",
     "text": [
      "5.2\n"
     ]
    }
   ],
   "source": [
    "print(x)"
   ]
  },
  {
   "cell_type": "code",
   "execution_count": 20,
   "id": "749261ac-08dd-4c04-a79b-6c505bceecfa",
   "metadata": {},
   "outputs": [],
   "source": [
    "y = \"cat\" "
   ]
  },
  {
   "cell_type": "code",
   "execution_count": 21,
   "id": "842d41a1-b4d4-4200-bdb8-ec0d05c34c74",
   "metadata": {},
   "outputs": [
    {
     "data": {
      "text/plain": [
       "str"
      ]
     },
     "execution_count": 21,
     "metadata": {},
     "output_type": "execute_result"
    }
   ],
   "source": [
    "type(y)"
   ]
  },
  {
   "cell_type": "code",
   "execution_count": 22,
   "id": "1cfaccaa-16d5-4b82-94ac-618ed6602271",
   "metadata": {},
   "outputs": [
    {
     "name": "stdout",
     "output_type": "stream",
     "text": [
      "cat\n"
     ]
    }
   ],
   "source": [
    "print(y)"
   ]
  },
  {
   "cell_type": "code",
   "execution_count": null,
   "id": "c9a26eb4-1e14-4430-b1be-da60d1848f16",
   "metadata": {},
   "outputs": [],
   "source": []
  }
 ],
 "metadata": {
  "kernelspec": {
   "display_name": "Python [conda env:base] *",
   "language": "python",
   "name": "conda-base-py"
  },
  "language_info": {
   "codemirror_mode": {
    "name": "ipython",
    "version": 3
   },
   "file_extension": ".py",
   "mimetype": "text/x-python",
   "name": "python",
   "nbconvert_exporter": "python",
   "pygments_lexer": "ipython3",
   "version": "3.13.5"
  }
 },
 "nbformat": 4,
 "nbformat_minor": 5
}
