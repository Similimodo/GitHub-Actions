{
 "cells": [
  {
   "cell_type": "code",
   "execution_count": 2,
   "id": "bbcf6004-373a-4a63-94db-a5bfd3a6bdc3",
   "metadata": {},
   "outputs": [],
   "source": [
    "# Section 2.1"
   ]
  },
  {
   "cell_type": "code",
   "execution_count": 3,
   "id": "395b0018-15ab-474d-8a03-f0b0a76e8d12",
   "metadata": {},
   "outputs": [
    {
     "name": "stdout",
     "output_type": "stream",
     "text": [
      "negative number\n"
     ]
    }
   ],
   "source": [
    "#determine if a number is positive and negative\n",
    "\n",
    "number = -3\n",
    "if number >= 0:\n",
    "    print(\"positive number\")\n",
    "else:\n",
    "    print(\"negative number\")"
   ]
  },
  {
   "cell_type": "code",
   "execution_count": 6,
   "id": "38123528-00a0-4a15-9113-26f12f08aaa4",
   "metadata": {},
   "outputs": [
    {
     "name": "stdout",
     "output_type": "stream",
     "text": [
      "Please enter a number:  -1\n"
     ]
    },
    {
     "name": "stdout",
     "output_type": "stream",
     "text": [
      "negative number\n"
     ]
    }
   ],
   "source": [
    "#determine if a number is positive and negative\n",
    "#using user input\n",
    "\n",
    "number = float(input(\"Please enter a number: \"))\n",
    "if number >= 0:\n",
    "    print(\"positive number\")\n",
    "else:\n",
    "    print(\"negative number\")"
   ]
  },
  {
   "cell_type": "code",
   "execution_count": 1,
   "id": "1259d70e-33d6-4658-95c9-47e17bd89c4f",
   "metadata": {},
   "outputs": [
    {
     "name": "stdout",
     "output_type": "stream",
     "text": [
      "Please enter a number:  2\n"
     ]
    },
    {
     "name": "stdout",
     "output_type": "stream",
     "text": [
      "The initial number is a positive number and the square is:  4.0\n"
     ]
    }
   ],
   "source": [
    "#determine if a number is positive and negative, then square the number\n",
    "#using user input\n",
    "\n",
    "number = float(input(\"Please enter a number: \"))\n",
    "if number >= 0:\n",
    "    squared = number ** 2\n",
    "    print(f\"The initial number is a positive number and the square is:  {squared}\")\n",
    "else:\n",
    "    squared = number ** 2\n",
    "    print(f\"The initial number is anegative number and its square is: {squared}\")"
   ]
  },
  {
   "cell_type": "code",
   "execution_count": 2,
   "id": "6476484b-467c-417a-bebb-82d5f81cf03b",
   "metadata": {},
   "outputs": [],
   "source": [
    "# Section 2.2"
   ]
  },
  {
   "cell_type": "code",
   "execution_count": 4,
   "id": "37c056d5-0fef-4b34-bd9c-3a63e58f55a1",
   "metadata": {},
   "outputs": [
    {
     "name": "stdout",
     "output_type": "stream",
     "text": [
      "The total is: 15\n"
     ]
    }
   ],
   "source": [
    "# list some numbers\n",
    "list1 = [1,2,3,4,5]\n",
    "\n",
    "summed_list = 0\n",
    "\n",
    "# iterating through the list\n",
    "for i in list1:\n",
    "    summed_list = summed_list + i\n",
    "\n",
    "total = summed_list\n",
    "\n",
    "\n",
    "print(f\"The total is: {total}\")"
   ]
  },
  {
   "cell_type": "code",
   "execution_count": 7,
   "id": "eac4d37f-a927-48ba-b448-6e964f9c4873",
   "metadata": {},
   "outputs": [
    {
     "name": "stdout",
     "output_type": "stream",
     "text": [
      "The total is: 6\n"
     ]
    }
   ],
   "source": [
    "# list some numbers\n",
    "list1 = [1,2,3,4,5]\n",
    "\n",
    "summed_even = 0\n",
    "\n",
    "# iterating through the list\n",
    "for i in list1:\n",
    "    if i % 2==0:\n",
    "        summed_even = summed_even + i\n",
    "    else:\n",
    "        continue\n",
    "\n",
    "total = summed_even\n",
    "\n",
    "\n",
    "print(f\"The total is: {total}\")"
   ]
  },
  {
   "cell_type": "code",
   "execution_count": 8,
   "id": "73cb76b4-dfbd-4466-a50b-034bdf046dc8",
   "metadata": {},
   "outputs": [],
   "source": [
    "#Section 2.3"
   ]
  },
  {
   "cell_type": "code",
   "execution_count": 18,
   "id": "5a37fcea-419f-493c-a322-04c358c5b78a",
   "metadata": {},
   "outputs": [
    {
     "name": "stdout",
     "output_type": "stream",
     "text": [
      "Please enter a number:  2\n"
     ]
    },
    {
     "name": "stdout",
     "output_type": "stream",
     "text": [
      "j is:  1 | Summation is :  1\n",
      "j is:  2 | Summation is :  3\n",
      "The total is: 3\n"
     ]
    }
   ],
   "source": [
    "#While loops \n",
    "# Sum the numbers 1 to N\n",
    "\n",
    "N = int(input(\"Please enter a number: \"))\n",
    "summation = 0\n",
    "\n",
    "j = 1\n",
    "\n",
    "while j <= N:\n",
    "    summation = summation + j\n",
    "    print(\"j is: \", j, \"| Summation is : \", summation)\n",
    "\n",
    "    j = j + 1\n",
    "\n",
    "print(f\"The total is: {summation}\")\n"
   ]
  },
  {
   "cell_type": "code",
   "execution_count": 23,
   "id": "d9806768-04d9-4036-a067-2b39271ac9cb",
   "metadata": {},
   "outputs": [
    {
     "name": "stdout",
     "output_type": "stream",
     "text": [
      "Please enter a number:  2\n"
     ]
    },
    {
     "name": "stdout",
     "output_type": "stream",
     "text": [
      "N is:  2 | Summation is :  1\n",
      "N is:  1 | Summation is :  2\n",
      "The total is: 2\n"
     ]
    }
   ],
   "source": [
    "#While loops \n",
    "# iterate through the numbers N to 1 (Top to buttom)\n",
    "\n",
    "N = int(input(\"Please enter a number: \"))\n",
    "summation = 0\n",
    "\n",
    "j = 1\n",
    "\n",
    "while N >= j:\n",
    "    summation = summation + j\n",
    "    print(\"N is: \", N, \"| Summation is : \", summation)\n",
    "\n",
    "    N = N - 1\n",
    "\n",
    "print(f\"The total is: {summation}\")"
   ]
  },
  {
   "cell_type": "code",
   "execution_count": 25,
   "id": "92fb8628-3e50-4707-9e39-fd5285bedb07",
   "metadata": {},
   "outputs": [
    {
     "name": "stdout",
     "output_type": "stream",
     "text": [
      "Interior loop value!\n",
      "Interior loop value!\n",
      "Interior loop value!\n",
      "Interior loop value!\n",
      "Interior loop value!\n",
      "Exterior loop value!\n"
     ]
    }
   ],
   "source": [
    "# using else in while loop\n",
    "\n",
    "counter = 0\n",
    "while counter < 5:\n",
    "    print(\"Interior loop value!\")\n",
    "    counter = counter + 1\n",
    "\n",
    "else:\n",
    "    print(\"Exterior loop value!\")"
   ]
  },
  {
   "cell_type": "code",
   "execution_count": 26,
   "id": "eb8fcbbe-fa2f-4aa2-80ea-d50b4ccdc221",
   "metadata": {},
   "outputs": [],
   "source": [
    "# Section 2.4"
   ]
  },
  {
   "cell_type": "code",
   "execution_count": 31,
   "id": "ac7c0e40-b088-46b9-8503-432ca0ee556e",
   "metadata": {},
   "outputs": [
    {
     "name": "stdout",
     "output_type": "stream",
     "text": [
      "S\n",
      "i\n",
      "m\n",
      "i\n",
      "l\n",
      "i\n",
      " \n",
      "i\n",
      "s\n",
      " \n",
      "The end of the program!\n"
     ]
    }
   ],
   "source": [
    "#Breaks and Continue\n",
    "\n",
    "for i in \"Simili is a good boy\":\n",
    "    if i == \"a\":\n",
    "        break\n",
    "    print(i)\n",
    "    \n",
    "print(\"The end of the program!\")"
   ]
  },
  {
   "cell_type": "code",
   "execution_count": 4,
   "id": "0d13c0c8-f001-42af-8a80-d3ba4e73aa6e",
   "metadata": {},
   "outputs": [
    {
     "name": "stdout",
     "output_type": "stream",
     "text": [
      "S\n",
      "i\n",
      "m\n",
      "i\n",
      "l\n",
      "i\n",
      " \n",
      "i\n",
      "s\n",
      " \n",
      "a\n",
      " \n",
      "g\n",
      "o\n",
      "o\n",
      "d\n",
      " \n",
      "o\n",
      "y\n",
      "The end of the program!\n"
     ]
    }
   ],
   "source": [
    "#Breaks and Continue\n",
    "\n",
    "for i in \"Simili is a good boy\":\n",
    "    if i == \"b\":\n",
    "        continue\n",
    "    print(i)\n",
    "    \n",
    "print(\"The end of the program!\")"
   ]
  },
  {
   "cell_type": "code",
   "execution_count": 6,
   "id": "02845302",
   "metadata": {},
   "outputs": [],
   "source": [
    "def name():\n",
    "    nom = input(\"Please enter your name: \")\n",
    "    print(f\"My name is {nom}\")\n",
    "\n",
    "    "
   ]
  },
  {
   "cell_type": "code",
   "execution_count": null,
   "id": "d4691238",
   "metadata": {},
   "outputs": [],
   "source": []
  }
 ],
 "metadata": {
  "kernelspec": {
   "display_name": "base",
   "language": "python",
   "name": "python3"
  },
  "language_info": {
   "codemirror_mode": {
    "name": "ipython",
    "version": 3
   },
   "file_extension": ".py",
   "mimetype": "text/x-python",
   "name": "python",
   "nbconvert_exporter": "python",
   "pygments_lexer": "ipython3",
   "version": "3.13.5"
  }
 },
 "nbformat": 4,
 "nbformat_minor": 5
}
